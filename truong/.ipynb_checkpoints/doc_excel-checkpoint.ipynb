{
 "cells": [
  {
   "cell_type": "code",
   "execution_count": 1,
   "metadata": {},
   "outputs": [],
   "source": [
    "import numpy as np\n",
    "import pandas as pd"
   ]
  },
  {
   "cell_type": "code",
   "execution_count": 3,
   "metadata": {},
   "outputs": [
    {
     "data": {
      "text/html": [
       "<div>\n",
       "<style scoped>\n",
       "    .dataframe tbody tr th:only-of-type {\n",
       "        vertical-align: middle;\n",
       "    }\n",
       "\n",
       "    .dataframe tbody tr th {\n",
       "        vertical-align: top;\n",
       "    }\n",
       "\n",
       "    .dataframe thead th {\n",
       "        text-align: right;\n",
       "    }\n",
       "</style>\n",
       "<table border=\"1\" class=\"dataframe\">\n",
       "  <thead>\n",
       "    <tr style=\"text-align: right;\">\n",
       "      <th></th>\n",
       "      <th>MA_DONVI</th>\n",
       "      <th>TEN_DONVI</th>\n",
       "    </tr>\n",
       "  </thead>\n",
       "  <tbody>\n",
       "    <tr>\n",
       "      <th>0</th>\n",
       "      <td>TL0018L</td>\n",
       "      <td>Công Ty Tnhh Công Nghệ ThuậN Phong Laser</td>\n",
       "    </tr>\n",
       "    <tr>\n",
       "      <th>1</th>\n",
       "      <td>TL0022L</td>\n",
       "      <td>DNTN Khách sạn 46</td>\n",
       "    </tr>\n",
       "    <tr>\n",
       "      <th>2</th>\n",
       "      <td>TL0023L</td>\n",
       "      <td>Công Ty Tnhh Đầu Tư Dịch Vụ Vận Tải Phượng Hoàng</td>\n",
       "    </tr>\n",
       "    <tr>\n",
       "      <th>3</th>\n",
       "      <td>TL0025L</td>\n",
       "      <td>Công ty TNHH XD Minh Chương</td>\n",
       "    </tr>\n",
       "    <tr>\n",
       "      <th>4</th>\n",
       "      <td>TL0027L</td>\n",
       "      <td>Công Ty Tnhh Thương Mại Và Dịch Vụ Thép Miho</td>\n",
       "    </tr>\n",
       "  </tbody>\n",
       "</table>\n",
       "</div>"
      ],
      "text/plain": [
       "  MA_DONVI                                         TEN_DONVI\n",
       "0  TL0018L        Công Ty Tnhh Công Nghệ ThuậN Phong Laser\n",
       "1  TL0022L                                 DNTN Khách sạn 46\n",
       "2  TL0023L  Công Ty Tnhh Đầu Tư Dịch Vụ Vận Tải Phượng Hoàng\n",
       "3  TL0025L                       Công ty TNHH XD Minh Chương\n",
       "4  TL0027L      Công Ty Tnhh Thương Mại Và Dịch Vụ Thép Miho"
      ]
     },
     "execution_count": 3,
     "metadata": {},
     "output_type": "execute_result"
    }
   ],
   "source": [
    "df = pd.read_excel(\"Book1.xlsx\")\n",
    "df.head()"
   ]
  },
  {
   "cell_type": "code",
   "execution_count": 4,
   "metadata": {},
   "outputs": [],
   "source": [
    "import mysql.connector"
   ]
  },
  {
   "cell_type": "code",
   "execution_count": 7,
   "metadata": {},
   "outputs": [
    {
     "name": "stdout",
     "output_type": "stream",
     "text": [
      "<mysql.connector.connection.MySQLConnection object at 0x0000017C8EE47DC0>\n"
     ]
    }
   ],
   "source": [
    "myconn = mysql.connector.connect(host = \"localhost\", user = \"root\", \n",
    "    passwd = \"\", port=\"3308\",  database = \"qlbansua\")\n",
    "   \n",
    "# in đối tượng connection ra màn hình\n",
    "print(myconn)"
   ]
  },
  {
   "cell_type": "code",
   "execution_count": null,
   "metadata": {},
   "outputs": [],
   "source": [
    "cursor = myconn.cursor()"
   ]
  }
 ],
 "metadata": {
  "kernelspec": {
   "display_name": "Python 3",
   "language": "python",
   "name": "python3"
  },
  "language_info": {
   "codemirror_mode": {
    "name": "ipython",
    "version": 3
   },
   "file_extension": ".py",
   "mimetype": "text/x-python",
   "name": "python",
   "nbconvert_exporter": "python",
   "pygments_lexer": "ipython3",
   "version": "3.8.6"
  }
 },
 "nbformat": 4,
 "nbformat_minor": 4
}
